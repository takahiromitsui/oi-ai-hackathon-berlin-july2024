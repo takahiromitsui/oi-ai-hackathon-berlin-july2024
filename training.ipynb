{
  "nbformat": 4,
  "nbformat_minor": 0,
  "metadata": {
    "colab": {
      "provenance": [],
      "toc_visible": true,
      "gpuType": "T4",
      "authorship_tag": "ABX9TyMbmDI2/X/cVHT5uaTTpXq3",
      "include_colab_link": true
    },
    "kernelspec": {
      "name": "python3",
      "display_name": "Python 3"
    },
    "language_info": {
      "name": "python"
    },
    "accelerator": "GPU"
  },
  "cells": [
    {
      "cell_type": "markdown",
      "metadata": {
        "id": "view-in-github",
        "colab_type": "text"
      },
      "source": [
        "<a href=\"https://colab.research.google.com/github/takahiromitsui/oi-ai-hackathon-berlin-july2024/blob/main/training.ipynb\" target=\"_parent\"><img src=\"https://colab.research.google.com/assets/colab-badge.svg\" alt=\"Open In Colab\"/></a>"
      ]
    },
    {
      "cell_type": "markdown",
      "source": [
        "# We are trying to indentify mice - plain mouse, stripped mouse and dotted mouse."
      ],
      "metadata": {
        "id": "4zBmExPuXKwA"
      }
    },
    {
      "cell_type": "markdown",
      "source": [
        "# step1 : Import image\n",
        "\n",
        "\n",
        "\n"
      ],
      "metadata": {
        "id": "HRnEDARCXi7t"
      }
    },
    {
      "cell_type": "code",
      "source": [
        "from google.colab import drive\n",
        "drive.mount('/content/drive',  force_remount=True)"
      ],
      "metadata": {
        "colab": {
          "base_uri": "https://localhost:8080/"
        },
        "id": "lLY3mV-RXo4K",
        "outputId": "49fb6d9a-ea0f-4ed7-8565-0b7547d381ef"
      },
      "execution_count": 1,
      "outputs": [
        {
          "output_type": "stream",
          "name": "stdout",
          "text": [
            "Mounted at /content/drive\n"
          ]
        }
      ]
    },
    {
      "cell_type": "code",
      "source": [
        "! ls"
      ],
      "metadata": {
        "colab": {
          "base_uri": "https://localhost:8080/"
        },
        "id": "9Lul2vDeX7sl",
        "outputId": "3b3be993-1cd7-45ec-98da-80717b1e2ad3"
      },
      "execution_count": 2,
      "outputs": [
        {
          "output_type": "stream",
          "name": "stdout",
          "text": [
            "drive  sample_data\n"
          ]
        }
      ]
    },
    {
      "cell_type": "code",
      "source": [
        "%cd drive/MyDrive/animal_indentification/"
      ],
      "metadata": {
        "colab": {
          "base_uri": "https://localhost:8080/"
        },
        "id": "PENROjizrQLp",
        "outputId": "b4af73f3-3c07-45aa-f244-d995b378d2a0"
      },
      "execution_count": 3,
      "outputs": [
        {
          "output_type": "stream",
          "name": "stdout",
          "text": [
            "/content/drive/MyDrive/animal_indentification\n"
          ]
        }
      ]
    },
    {
      "cell_type": "code",
      "source": [
        "! ls"
      ],
      "metadata": {
        "colab": {
          "base_uri": "https://localhost:8080/"
        },
        "id": "ws-k2SaKr4HC",
        "outputId": "e9571488-29f5-4302-cce2-e2aa235e553d"
      },
      "execution_count": 4,
      "outputs": [
        {
          "output_type": "stream",
          "name": "stdout",
          "text": [
            "dotted\timages\tplain  striped\n"
          ]
        }
      ]
    },
    {
      "cell_type": "markdown",
      "source": [
        "# step 2\n",
        "\n"
      ],
      "metadata": {
        "id": "04xd719xsdxC"
      }
    },
    {
      "cell_type": "code",
      "source": [
        "# install detecto\n",
        "!pip3 install detecto"
      ],
      "metadata": {
        "colab": {
          "base_uri": "https://localhost:8080/"
        },
        "id": "lBAHx5OXr5Rx",
        "outputId": "1a9ad287-47b8-417a-98bf-c4409248c6e3"
      },
      "execution_count": 5,
      "outputs": [
        {
          "output_type": "stream",
          "name": "stdout",
          "text": [
            "Collecting detecto\n",
            "  Downloading detecto-1.2.2-py3-none-any.whl (25 kB)\n",
            "Requirement already satisfied: matplotlib in /usr/local/lib/python3.10/dist-packages (from detecto) (3.7.1)\n",
            "Requirement already satisfied: opencv-python in /usr/local/lib/python3.10/dist-packages (from detecto) (4.8.0.76)\n",
            "Requirement already satisfied: pandas in /usr/local/lib/python3.10/dist-packages (from detecto) (2.0.3)\n",
            "Requirement already satisfied: torch in /usr/local/lib/python3.10/dist-packages (from detecto) (2.3.0+cu121)\n",
            "Requirement already satisfied: torchvision in /usr/local/lib/python3.10/dist-packages (from detecto) (0.18.0+cu121)\n",
            "Requirement already satisfied: tqdm in /usr/local/lib/python3.10/dist-packages (from detecto) (4.66.4)\n",
            "Requirement already satisfied: contourpy>=1.0.1 in /usr/local/lib/python3.10/dist-packages (from matplotlib->detecto) (1.2.1)\n",
            "Requirement already satisfied: cycler>=0.10 in /usr/local/lib/python3.10/dist-packages (from matplotlib->detecto) (0.12.1)\n",
            "Requirement already satisfied: fonttools>=4.22.0 in /usr/local/lib/python3.10/dist-packages (from matplotlib->detecto) (4.53.1)\n",
            "Requirement already satisfied: kiwisolver>=1.0.1 in /usr/local/lib/python3.10/dist-packages (from matplotlib->detecto) (1.4.5)\n",
            "Requirement already satisfied: numpy>=1.20 in /usr/local/lib/python3.10/dist-packages (from matplotlib->detecto) (1.25.2)\n",
            "Requirement already satisfied: packaging>=20.0 in /usr/local/lib/python3.10/dist-packages (from matplotlib->detecto) (24.1)\n",
            "Requirement already satisfied: pillow>=6.2.0 in /usr/local/lib/python3.10/dist-packages (from matplotlib->detecto) (9.4.0)\n",
            "Requirement already satisfied: pyparsing>=2.3.1 in /usr/local/lib/python3.10/dist-packages (from matplotlib->detecto) (3.1.2)\n",
            "Requirement already satisfied: python-dateutil>=2.7 in /usr/local/lib/python3.10/dist-packages (from matplotlib->detecto) (2.8.2)\n",
            "Requirement already satisfied: pytz>=2020.1 in /usr/local/lib/python3.10/dist-packages (from pandas->detecto) (2023.4)\n",
            "Requirement already satisfied: tzdata>=2022.1 in /usr/local/lib/python3.10/dist-packages (from pandas->detecto) (2024.1)\n",
            "Requirement already satisfied: filelock in /usr/local/lib/python3.10/dist-packages (from torch->detecto) (3.15.4)\n",
            "Requirement already satisfied: typing-extensions>=4.8.0 in /usr/local/lib/python3.10/dist-packages (from torch->detecto) (4.12.2)\n",
            "Requirement already satisfied: sympy in /usr/local/lib/python3.10/dist-packages (from torch->detecto) (1.13.0)\n",
            "Requirement already satisfied: networkx in /usr/local/lib/python3.10/dist-packages (from torch->detecto) (3.3)\n",
            "Requirement already satisfied: jinja2 in /usr/local/lib/python3.10/dist-packages (from torch->detecto) (3.1.4)\n",
            "Requirement already satisfied: fsspec in /usr/local/lib/python3.10/dist-packages (from torch->detecto) (2023.6.0)\n",
            "Collecting nvidia-cuda-nvrtc-cu12==12.1.105 (from torch->detecto)\n",
            "  Using cached nvidia_cuda_nvrtc_cu12-12.1.105-py3-none-manylinux1_x86_64.whl (23.7 MB)\n",
            "Collecting nvidia-cuda-runtime-cu12==12.1.105 (from torch->detecto)\n",
            "  Using cached nvidia_cuda_runtime_cu12-12.1.105-py3-none-manylinux1_x86_64.whl (823 kB)\n",
            "Collecting nvidia-cuda-cupti-cu12==12.1.105 (from torch->detecto)\n",
            "  Using cached nvidia_cuda_cupti_cu12-12.1.105-py3-none-manylinux1_x86_64.whl (14.1 MB)\n",
            "Collecting nvidia-cudnn-cu12==8.9.2.26 (from torch->detecto)\n",
            "  Using cached nvidia_cudnn_cu12-8.9.2.26-py3-none-manylinux1_x86_64.whl (731.7 MB)\n",
            "Collecting nvidia-cublas-cu12==12.1.3.1 (from torch->detecto)\n",
            "  Using cached nvidia_cublas_cu12-12.1.3.1-py3-none-manylinux1_x86_64.whl (410.6 MB)\n",
            "Collecting nvidia-cufft-cu12==11.0.2.54 (from torch->detecto)\n",
            "  Using cached nvidia_cufft_cu12-11.0.2.54-py3-none-manylinux1_x86_64.whl (121.6 MB)\n",
            "Collecting nvidia-curand-cu12==10.3.2.106 (from torch->detecto)\n",
            "  Using cached nvidia_curand_cu12-10.3.2.106-py3-none-manylinux1_x86_64.whl (56.5 MB)\n",
            "Collecting nvidia-cusolver-cu12==11.4.5.107 (from torch->detecto)\n",
            "  Using cached nvidia_cusolver_cu12-11.4.5.107-py3-none-manylinux1_x86_64.whl (124.2 MB)\n",
            "Collecting nvidia-cusparse-cu12==12.1.0.106 (from torch->detecto)\n",
            "  Using cached nvidia_cusparse_cu12-12.1.0.106-py3-none-manylinux1_x86_64.whl (196.0 MB)\n",
            "Collecting nvidia-nccl-cu12==2.20.5 (from torch->detecto)\n",
            "  Using cached nvidia_nccl_cu12-2.20.5-py3-none-manylinux2014_x86_64.whl (176.2 MB)\n",
            "Collecting nvidia-nvtx-cu12==12.1.105 (from torch->detecto)\n",
            "  Using cached nvidia_nvtx_cu12-12.1.105-py3-none-manylinux1_x86_64.whl (99 kB)\n",
            "Requirement already satisfied: triton==2.3.0 in /usr/local/lib/python3.10/dist-packages (from torch->detecto) (2.3.0)\n",
            "Collecting nvidia-nvjitlink-cu12 (from nvidia-cusolver-cu12==11.4.5.107->torch->detecto)\n",
            "  Downloading nvidia_nvjitlink_cu12-12.5.82-py3-none-manylinux2014_x86_64.whl (21.3 MB)\n",
            "\u001b[2K     \u001b[90m━━━━━━━━━━━━━━━━━━━━━━━━━━━━━━━━━━━━━━━━\u001b[0m \u001b[32m21.3/21.3 MB\u001b[0m \u001b[31m71.6 MB/s\u001b[0m eta \u001b[36m0:00:00\u001b[0m\n",
            "\u001b[?25hRequirement already satisfied: six>=1.5 in /usr/local/lib/python3.10/dist-packages (from python-dateutil>=2.7->matplotlib->detecto) (1.16.0)\n",
            "Requirement already satisfied: MarkupSafe>=2.0 in /usr/local/lib/python3.10/dist-packages (from jinja2->torch->detecto) (2.1.5)\n",
            "Requirement already satisfied: mpmath<1.4,>=1.1.0 in /usr/local/lib/python3.10/dist-packages (from sympy->torch->detecto) (1.3.0)\n",
            "Installing collected packages: nvidia-nvtx-cu12, nvidia-nvjitlink-cu12, nvidia-nccl-cu12, nvidia-curand-cu12, nvidia-cufft-cu12, nvidia-cuda-runtime-cu12, nvidia-cuda-nvrtc-cu12, nvidia-cuda-cupti-cu12, nvidia-cublas-cu12, nvidia-cusparse-cu12, nvidia-cudnn-cu12, nvidia-cusolver-cu12, detecto\n",
            "Successfully installed detecto-1.2.2 nvidia-cublas-cu12-12.1.3.1 nvidia-cuda-cupti-cu12-12.1.105 nvidia-cuda-nvrtc-cu12-12.1.105 nvidia-cuda-runtime-cu12-12.1.105 nvidia-cudnn-cu12-8.9.2.26 nvidia-cufft-cu12-11.0.2.54 nvidia-curand-cu12-10.3.2.106 nvidia-cusolver-cu12-11.4.5.107 nvidia-cusparse-cu12-12.1.0.106 nvidia-nccl-cu12-2.20.5 nvidia-nvjitlink-cu12-12.5.82 nvidia-nvtx-cu12-12.1.105\n"
          ]
        }
      ]
    },
    {
      "cell_type": "code",
      "source": [
        "from detecto import core, utils, visualize\n",
        "dataset = core.Dataset('images')\n",
        "model = core.Model(['plain', 'striped', 'dotted'])"
      ],
      "metadata": {
        "id": "sHzcYwXgsqVi"
      },
      "execution_count": 35,
      "outputs": []
    },
    {
      "cell_type": "code",
      "source": [
        "model.fit(dataset)"
      ],
      "metadata": {
        "colab": {
          "base_uri": "https://localhost:8080/"
        },
        "id": "sVBbs_wb6XNw",
        "outputId": "69283c9b-050b-479f-bf0f-737ce6e6075a"
      },
      "execution_count": 36,
      "outputs": [
        {
          "output_type": "stream",
          "name": "stdout",
          "text": [
            "Epoch 1 of 10\n",
            "Begin iterating over training dataset\n"
          ]
        },
        {
          "output_type": "stream",
          "name": "stderr",
          "text": [
            "100%|██████████| 51/51 [00:12<00:00,  3.99it/s]\n"
          ]
        },
        {
          "output_type": "stream",
          "name": "stdout",
          "text": [
            "Epoch 2 of 10\n",
            "Begin iterating over training dataset\n"
          ]
        },
        {
          "output_type": "stream",
          "name": "stderr",
          "text": [
            "100%|██████████| 51/51 [00:12<00:00,  3.94it/s]\n"
          ]
        },
        {
          "output_type": "stream",
          "name": "stdout",
          "text": [
            "Epoch 3 of 10\n",
            "Begin iterating over training dataset\n"
          ]
        },
        {
          "output_type": "stream",
          "name": "stderr",
          "text": [
            "100%|██████████| 51/51 [00:13<00:00,  3.89it/s]\n"
          ]
        },
        {
          "output_type": "stream",
          "name": "stdout",
          "text": [
            "Epoch 4 of 10\n",
            "Begin iterating over training dataset\n"
          ]
        },
        {
          "output_type": "stream",
          "name": "stderr",
          "text": [
            "100%|██████████| 51/51 [00:13<00:00,  3.85it/s]\n"
          ]
        },
        {
          "output_type": "stream",
          "name": "stdout",
          "text": [
            "Epoch 5 of 10\n",
            "Begin iterating over training dataset\n"
          ]
        },
        {
          "output_type": "stream",
          "name": "stderr",
          "text": [
            "100%|██████████| 51/51 [00:13<00:00,  3.81it/s]\n"
          ]
        },
        {
          "output_type": "stream",
          "name": "stdout",
          "text": [
            "Epoch 6 of 10\n",
            "Begin iterating over training dataset\n"
          ]
        },
        {
          "output_type": "stream",
          "name": "stderr",
          "text": [
            "100%|██████████| 51/51 [00:13<00:00,  3.78it/s]\n"
          ]
        },
        {
          "output_type": "stream",
          "name": "stdout",
          "text": [
            "Epoch 7 of 10\n",
            "Begin iterating over training dataset\n"
          ]
        },
        {
          "output_type": "stream",
          "name": "stderr",
          "text": [
            "100%|██████████| 51/51 [00:13<00:00,  3.75it/s]\n"
          ]
        },
        {
          "output_type": "stream",
          "name": "stdout",
          "text": [
            "Epoch 8 of 10\n",
            "Begin iterating over training dataset\n"
          ]
        },
        {
          "output_type": "stream",
          "name": "stderr",
          "text": [
            "100%|██████████| 51/51 [00:13<00:00,  3.74it/s]\n"
          ]
        },
        {
          "output_type": "stream",
          "name": "stdout",
          "text": [
            "Epoch 9 of 10\n",
            "Begin iterating over training dataset\n"
          ]
        },
        {
          "output_type": "stream",
          "name": "stderr",
          "text": [
            "100%|██████████| 51/51 [00:13<00:00,  3.73it/s]\n"
          ]
        },
        {
          "output_type": "stream",
          "name": "stdout",
          "text": [
            "Epoch 10 of 10\n",
            "Begin iterating over training dataset\n"
          ]
        },
        {
          "output_type": "stream",
          "name": "stderr",
          "text": [
            "100%|██████████| 51/51 [00:13<00:00,  3.73it/s]\n"
          ]
        }
      ]
    },
    {
      "cell_type": "code",
      "source": [
        "image = utils.read_image('plain/images/df10cb9f-plain10.jpg')\n",
        "predictions = model.predict(image)"
      ],
      "metadata": {
        "id": "Eic0_OSF7Hua"
      },
      "execution_count": 39,
      "outputs": []
    },
    {
      "cell_type": "code",
      "source": [
        "labels, boxes, scores = predictions"
      ],
      "metadata": {
        "id": "E-hb-X2k7RKh"
      },
      "execution_count": 40,
      "outputs": []
    },
    {
      "cell_type": "code",
      "source": [
        "print(labels)\n",
        "print(boxes)\n",
        "print(scores)"
      ],
      "metadata": {
        "colab": {
          "base_uri": "https://localhost:8080/"
        },
        "id": "8dj0nHHf7eJv",
        "outputId": "a1fa6e53-eb48-49b5-cac9-7f6de8805998"
      },
      "execution_count": 41,
      "outputs": [
        {
          "output_type": "stream",
          "name": "stdout",
          "text": [
            "['plain', 'striped', 'dotted', 'plain', 'plain', 'plain', 'plain', 'dotted', 'striped', 'dotted', 'dotted', 'dotted', 'striped', 'striped', 'striped', 'plain']\n",
            "tensor([[1.6292e+01, 1.5172e+01, 3.1503e+02, 3.2511e+02],\n",
            "        [2.4171e+01, 4.4764e+01, 3.0698e+02, 2.1223e+02],\n",
            "        [3.3797e+01, 5.8953e+01, 2.9707e+02, 2.2609e+02],\n",
            "        [3.2997e+02, 9.3201e-03, 3.3000e+02, 2.3631e+00],\n",
            "        [3.2998e+02, 3.4478e+01, 3.3000e+02, 5.7555e+01],\n",
            "        [3.2995e+02, 3.2631e+01, 3.3000e+02, 5.6018e+01],\n",
            "        [0.0000e+00, 1.7643e+02, 3.3000e+02, 3.2602e+02],\n",
            "        [8.3130e+00, 0.0000e+00, 3.3000e+02, 2.8521e+02],\n",
            "        [0.0000e+00, 1.0143e+02, 2.9098e+02, 2.8402e+02],\n",
            "        [3.2997e+02, 0.0000e+00, 3.3000e+02, 2.3477e+00],\n",
            "        [3.2998e+02, 3.4280e+01, 3.3000e+02, 5.7403e+01],\n",
            "        [3.2995e+02, 3.2430e+01, 3.3000e+02, 5.5864e+01],\n",
            "        [3.2997e+02, 0.0000e+00, 3.3000e+02, 2.3607e+00],\n",
            "        [3.2998e+02, 3.4252e+01, 3.3000e+02, 5.7531e+01],\n",
            "        [3.2995e+02, 3.2402e+01, 3.3000e+02, 5.5994e+01],\n",
            "        [6.5989e+00, 6.5062e+01, 3.0951e+02, 2.2510e+02]])\n",
            "tensor([0.6102, 0.3165, 0.2497, 0.1707, 0.1707, 0.1707, 0.1577, 0.1512, 0.1390,\n",
            "        0.1204, 0.1204, 0.1204, 0.1073, 0.1073, 0.1073, 0.0906])\n"
          ]
        }
      ]
    },
    {
      "cell_type": "code",
      "source": [
        "model.save('mode_weights.pth')"
      ],
      "metadata": {
        "id": "Rzh9Qn1Q7v9N"
      },
      "execution_count": 42,
      "outputs": []
    },
    {
      "cell_type": "markdown",
      "source": [
        "# Prediction"
      ],
      "metadata": {
        "id": "fDhRr5XUysIa"
      }
    },
    {
      "cell_type": "code",
      "source": [
        "image = utils.read_image('plain/images/df10cb9f-plain10.jpg')"
      ],
      "metadata": {
        "id": "qjmb9bjsuq5D"
      },
      "execution_count": 27,
      "outputs": []
    },
    {
      "cell_type": "code",
      "source": [
        "image"
      ],
      "metadata": {
        "colab": {
          "base_uri": "https://localhost:8080/",
          "height": 370
        },
        "id": "RLO1SlYY0_4N",
        "outputId": "e751943a-56ba-4852-a8d2-79748a0f9cb3"
      },
      "execution_count": 28,
      "outputs": [
        {
          "output_type": "execute_result",
          "data": {
            "text/plain": [
              "array([[[217, 226, 231],\n",
              "        [217, 226, 231],\n",
              "        [217, 226, 231],\n",
              "        ...,\n",
              "        [184, 201, 211],\n",
              "        [184, 201, 211],\n",
              "        [184, 201, 211]],\n",
              "\n",
              "       [[217, 226, 231],\n",
              "        [217, 226, 231],\n",
              "        [217, 226, 231],\n",
              "        ...,\n",
              "        [184, 201, 211],\n",
              "        [184, 201, 211],\n",
              "        [184, 201, 211]],\n",
              "\n",
              "       [[217, 226, 231],\n",
              "        [217, 226, 231],\n",
              "        [217, 226, 231],\n",
              "        ...,\n",
              "        [184, 201, 211],\n",
              "        [184, 201, 211],\n",
              "        [184, 201, 211]],\n",
              "\n",
              "       ...,\n",
              "\n",
              "       [[254, 254, 254],\n",
              "        [254, 254, 254],\n",
              "        [254, 254, 254],\n",
              "        ...,\n",
              "        [222, 230, 233],\n",
              "        [221, 229, 232],\n",
              "        [221, 229, 232]],\n",
              "\n",
              "       [[254, 254, 254],\n",
              "        [254, 254, 254],\n",
              "        [254, 254, 254],\n",
              "        ...,\n",
              "        [222, 230, 233],\n",
              "        [222, 230, 233],\n",
              "        [222, 230, 233]],\n",
              "\n",
              "       [[254, 254, 254],\n",
              "        [254, 254, 254],\n",
              "        [254, 254, 254],\n",
              "        ...,\n",
              "        [222, 230, 233],\n",
              "        [222, 230, 233],\n",
              "        [222, 230, 233]]], dtype=uint8)"
            ],
            "text/html": [
              "<style>\n",
              "      .ndarray_repr .ndarray_raw_data {\n",
              "        display: none;\n",
              "      }\n",
              "      .ndarray_repr.show_array .ndarray_raw_data {\n",
              "        display: block;\n",
              "      }\n",
              "      .ndarray_repr.show_array .ndarray_image_preview {\n",
              "        display: none;\n",
              "      }\n",
              "      </style>\n",
              "      <div id=\"id-33cda982-c303-4471-b96a-17abc0871b76\" class=\"ndarray_repr\"><pre>ndarray (330, 330, 3) <button style=\"padding: 0 2px;\">show data</button></pre><img src=\"data:image/png;base64,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\" class=\"ndarray_image_preview\" /><pre class=\"ndarray_raw_data\">array([[[217, 226, 231],\n",
              "        [217, 226, 231],\n",
              "        [217, 226, 231],\n",
              "        ...,\n",
              "        [184, 201, 211],\n",
              "        [184, 201, 211],\n",
              "        [184, 201, 211]],\n",
              "\n",
              "       [[217, 226, 231],\n",
              "        [217, 226, 231],\n",
              "        [217, 226, 231],\n",
              "        ...,\n",
              "        [184, 201, 211],\n",
              "        [184, 201, 211],\n",
              "        [184, 201, 211]],\n",
              "\n",
              "       [[217, 226, 231],\n",
              "        [217, 226, 231],\n",
              "        [217, 226, 231],\n",
              "        ...,\n",
              "        [184, 201, 211],\n",
              "        [184, 201, 211],\n",
              "        [184, 201, 211]],\n",
              "\n",
              "       ...,\n",
              "\n",
              "       [[254, 254, 254],\n",
              "        [254, 254, 254],\n",
              "        [254, 254, 254],\n",
              "        ...,\n",
              "        [222, 230, 233],\n",
              "        [221, 229, 232],\n",
              "        [221, 229, 232]],\n",
              "\n",
              "       [[254, 254, 254],\n",
              "        [254, 254, 254],\n",
              "        [254, 254, 254],\n",
              "        ...,\n",
              "        [222, 230, 233],\n",
              "        [222, 230, 233],\n",
              "        [222, 230, 233]],\n",
              "\n",
              "       [[254, 254, 254],\n",
              "        [254, 254, 254],\n",
              "        [254, 254, 254],\n",
              "        ...,\n",
              "        [222, 230, 233],\n",
              "        [222, 230, 233],\n",
              "        [222, 230, 233]]], dtype=uint8)</pre></div><script>\n",
              "      (() => {\n",
              "      const titles = ['show data', 'hide data'];\n",
              "      let index = 0\n",
              "      document.querySelector('#id-33cda982-c303-4471-b96a-17abc0871b76 button').onclick = (e) => {\n",
              "        document.querySelector('#id-33cda982-c303-4471-b96a-17abc0871b76').classList.toggle('show_array');\n",
              "        index = (++index) % 2;\n",
              "        document.querySelector('#id-33cda982-c303-4471-b96a-17abc0871b76 button').textContent = titles[index];\n",
              "        e.preventDefault();\n",
              "        e.stopPropagation();\n",
              "      }\n",
              "      })();\n",
              "    </script>"
            ]
          },
          "metadata": {},
          "execution_count": 28
        }
      ]
    },
    {
      "cell_type": "code",
      "source": [
        "model.predict(image)\n",
        "model.save('model_weights.pth')"
      ],
      "metadata": {
        "id": "mk1j6Yp0y6jE"
      },
      "execution_count": 31,
      "outputs": []
    },
    {
      "cell_type": "code",
      "source": [
        "model = core.Model.load('model_weights.pth', ['plain', 'striped', 'dotted'])"
      ],
      "metadata": {
        "colab": {
          "base_uri": "https://localhost:8080/"
        },
        "id": "ORC1kmgPzMrQ",
        "outputId": "6047223a-0e9c-4634-d9cc-03ad31ab8282"
      },
      "execution_count": 32,
      "outputs": [
        {
          "output_type": "stream",
          "name": "stderr",
          "text": [
            "/usr/local/lib/python3.10/dist-packages/torchvision/models/_utils.py:208: UserWarning: The parameter 'pretrained' is deprecated since 0.13 and may be removed in the future, please use 'weights' instead.\n",
            "  warnings.warn(\n",
            "/usr/local/lib/python3.10/dist-packages/torchvision/models/_utils.py:223: UserWarning: Arguments other than a weight enum or `None` for 'weights' are deprecated since 0.13 and may be removed in the future. The current behavior is equivalent to passing `weights=FasterRCNN_ResNet50_FPN_Weights.COCO_V1`. You can also use `weights=FasterRCNN_ResNet50_FPN_Weights.DEFAULT` to get the most up-to-date weights.\n",
            "  warnings.warn(msg)\n"
          ]
        }
      ]
    },
    {
      "cell_type": "code",
      "source": [
        "model.predict(image)"
      ],
      "metadata": {
        "colab": {
          "base_uri": "https://localhost:8080/"
        },
        "id": "H557SQfHzWAF",
        "outputId": "371aad76-e2dd-49a4-c3bb-914d7de386a6"
      },
      "execution_count": 33,
      "outputs": [
        {
          "output_type": "execute_result",
          "data": {
            "text/plain": [
              "([], tensor([], size=(0, 4)), tensor([]))"
            ]
          },
          "metadata": {},
          "execution_count": 33
        }
      ]
    },
    {
      "cell_type": "code",
      "source": [
        "model = core.Model(['plain', 'striped', 'dotted'])"
      ],
      "metadata": {
        "colab": {
          "base_uri": "https://localhost:8080/",
          "height": 253
        },
        "id": "oyyFKXc154Je",
        "outputId": "11cfc78c-dadd-412f-ff35-2b4c5004dde1"
      },
      "execution_count": 34,
      "outputs": [
        {
          "output_type": "stream",
          "name": "stderr",
          "text": [
            "/usr/local/lib/python3.10/dist-packages/torchvision/models/_utils.py:208: UserWarning: The parameter 'pretrained' is deprecated since 0.13 and may be removed in the future, please use 'weights' instead.\n",
            "  warnings.warn(\n",
            "/usr/local/lib/python3.10/dist-packages/torchvision/models/_utils.py:223: UserWarning: Arguments other than a weight enum or `None` for 'weights' are deprecated since 0.13 and may be removed in the future. The current behavior is equivalent to passing `weights=FasterRCNN_ResNet50_FPN_Weights.COCO_V1`. You can also use `weights=FasterRCNN_ResNet50_FPN_Weights.DEFAULT` to get the most up-to-date weights.\n",
            "  warnings.warn(msg)\n"
          ]
        },
        {
          "output_type": "error",
          "ename": "AttributeError",
          "evalue": "'Model' object has no attribute 'predcit'",
          "traceback": [
            "\u001b[0;31m---------------------------------------------------------------------------\u001b[0m",
            "\u001b[0;31mAttributeError\u001b[0m                            Traceback (most recent call last)",
            "\u001b[0;32m<ipython-input-34-1cacfb355a1f>\u001b[0m in \u001b[0;36m<cell line: 2>\u001b[0;34m()\u001b[0m\n\u001b[1;32m      1\u001b[0m \u001b[0mmodel\u001b[0m \u001b[0;34m=\u001b[0m \u001b[0mcore\u001b[0m\u001b[0;34m.\u001b[0m\u001b[0mModel\u001b[0m\u001b[0;34m(\u001b[0m\u001b[0;34m[\u001b[0m\u001b[0;34m'plain'\u001b[0m\u001b[0;34m,\u001b[0m \u001b[0;34m'striped'\u001b[0m\u001b[0;34m,\u001b[0m \u001b[0;34m'dotted'\u001b[0m\u001b[0;34m]\u001b[0m\u001b[0;34m)\u001b[0m\u001b[0;34m\u001b[0m\u001b[0;34m\u001b[0m\u001b[0m\n\u001b[0;32m----> 2\u001b[0;31m \u001b[0mmodel\u001b[0m\u001b[0;34m.\u001b[0m\u001b[0mpredcit\u001b[0m\u001b[0;34m(\u001b[0m\u001b[0mimage\u001b[0m\u001b[0;34m)\u001b[0m\u001b[0;34m\u001b[0m\u001b[0;34m\u001b[0m\u001b[0m\n\u001b[0m",
            "\u001b[0;31mAttributeError\u001b[0m: 'Model' object has no attribute 'predcit'"
          ]
        }
      ]
    },
    {
      "cell_type": "code",
      "source": [],
      "metadata": {
        "id": "i_z0XfCh6INu"
      },
      "execution_count": null,
      "outputs": []
    }
  ]
}